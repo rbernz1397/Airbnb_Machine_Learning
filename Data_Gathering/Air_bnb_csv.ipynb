{
 "cells": [
  {
   "cell_type": "code",
   "execution_count": 410,
   "metadata": {},
   "outputs": [],
   "source": [
    "# Import dependencies\n",
    "import pandas as pd\n",
    "from pathlib import Path\n",
    "import hvplot.pandas\n",
    "import tensorflow as tf\n",
    "\n",
    "# Import machine learning dependencies\n",
    "from sklearn.model_selection import train_test_split\n",
    "from sklearn.preprocessing import StandardScaler, OneHotEncoder\n",
    "from sklearn.compose import ColumnTransformer\n",
    "from sklearn.pipeline import Pipeline\n",
    "from sklearn.impute import SimpleImputer"
   ]
  },
  {
   "cell_type": "markdown",
   "metadata": {},
   "source": [
    "Read CSV File"
   ]
  },
  {
   "cell_type": "code",
   "execution_count": 411,
   "metadata": {},
   "outputs": [
    {
     "data": {
      "text/html": [
       "<div>\n",
       "<style scoped>\n",
       "    .dataframe tbody tr th:only-of-type {\n",
       "        vertical-align: middle;\n",
       "    }\n",
       "\n",
       "    .dataframe tbody tr th {\n",
       "        vertical-align: top;\n",
       "    }\n",
       "\n",
       "    .dataframe thead th {\n",
       "        text-align: right;\n",
       "    }\n",
       "</style>\n",
       "<table border=\"1\" class=\"dataframe\">\n",
       "  <thead>\n",
       "    <tr style=\"text-align: right;\">\n",
       "      <th></th>\n",
       "      <th>id</th>\n",
       "      <th>log_price</th>\n",
       "      <th>property_type</th>\n",
       "      <th>room_type</th>\n",
       "      <th>amenities</th>\n",
       "      <th>accommodates</th>\n",
       "      <th>bathrooms</th>\n",
       "      <th>bed_type</th>\n",
       "      <th>cancellation_policy</th>\n",
       "      <th>cleaning_fee</th>\n",
       "      <th>...</th>\n",
       "      <th>latitude</th>\n",
       "      <th>longitude</th>\n",
       "      <th>name</th>\n",
       "      <th>neighbourhood</th>\n",
       "      <th>number_of_reviews</th>\n",
       "      <th>review_scores_rating</th>\n",
       "      <th>thumbnail_url</th>\n",
       "      <th>zipcode</th>\n",
       "      <th>bedrooms</th>\n",
       "      <th>beds</th>\n",
       "    </tr>\n",
       "  </thead>\n",
       "  <tbody>\n",
       "    <tr>\n",
       "      <th>0</th>\n",
       "      <td>6901257</td>\n",
       "      <td>5.010635</td>\n",
       "      <td>Apartment</td>\n",
       "      <td>Entire home/apt</td>\n",
       "      <td>{\"Wireless Internet\",\"Air conditioning\",Kitche...</td>\n",
       "      <td>3</td>\n",
       "      <td>1.0</td>\n",
       "      <td>Real Bed</td>\n",
       "      <td>strict</td>\n",
       "      <td>True</td>\n",
       "      <td>...</td>\n",
       "      <td>40.696524</td>\n",
       "      <td>-73.991617</td>\n",
       "      <td>Beautiful brownstone 1-bedroom</td>\n",
       "      <td>Brooklyn Heights</td>\n",
       "      <td>2</td>\n",
       "      <td>100.0</td>\n",
       "      <td>https://a0.muscache.com/im/pictures/6d7cbbf7-c...</td>\n",
       "      <td>11201</td>\n",
       "      <td>1.0</td>\n",
       "      <td>1.0</td>\n",
       "    </tr>\n",
       "    <tr>\n",
       "      <th>1</th>\n",
       "      <td>6304928</td>\n",
       "      <td>5.129899</td>\n",
       "      <td>Apartment</td>\n",
       "      <td>Entire home/apt</td>\n",
       "      <td>{\"Wireless Internet\",\"Air conditioning\",Kitche...</td>\n",
       "      <td>7</td>\n",
       "      <td>1.0</td>\n",
       "      <td>Real Bed</td>\n",
       "      <td>strict</td>\n",
       "      <td>True</td>\n",
       "      <td>...</td>\n",
       "      <td>40.766115</td>\n",
       "      <td>-73.989040</td>\n",
       "      <td>Superb 3BR Apt Located Near Times Square</td>\n",
       "      <td>Hell's Kitchen</td>\n",
       "      <td>6</td>\n",
       "      <td>93.0</td>\n",
       "      <td>https://a0.muscache.com/im/pictures/348a55fe-4...</td>\n",
       "      <td>10019</td>\n",
       "      <td>3.0</td>\n",
       "      <td>3.0</td>\n",
       "    </tr>\n",
       "    <tr>\n",
       "      <th>2</th>\n",
       "      <td>7919400</td>\n",
       "      <td>4.976734</td>\n",
       "      <td>Apartment</td>\n",
       "      <td>Entire home/apt</td>\n",
       "      <td>{TV,\"Cable TV\",\"Wireless Internet\",\"Air condit...</td>\n",
       "      <td>5</td>\n",
       "      <td>1.0</td>\n",
       "      <td>Real Bed</td>\n",
       "      <td>moderate</td>\n",
       "      <td>True</td>\n",
       "      <td>...</td>\n",
       "      <td>40.808110</td>\n",
       "      <td>-73.943756</td>\n",
       "      <td>The Garden Oasis</td>\n",
       "      <td>Harlem</td>\n",
       "      <td>10</td>\n",
       "      <td>92.0</td>\n",
       "      <td>https://a0.muscache.com/im/pictures/6fae5362-9...</td>\n",
       "      <td>10027</td>\n",
       "      <td>1.0</td>\n",
       "      <td>3.0</td>\n",
       "    </tr>\n",
       "    <tr>\n",
       "      <th>3</th>\n",
       "      <td>13418779</td>\n",
       "      <td>6.620073</td>\n",
       "      <td>House</td>\n",
       "      <td>Entire home/apt</td>\n",
       "      <td>{TV,\"Cable TV\",Internet,\"Wireless Internet\",Ki...</td>\n",
       "      <td>4</td>\n",
       "      <td>1.0</td>\n",
       "      <td>Real Bed</td>\n",
       "      <td>flexible</td>\n",
       "      <td>True</td>\n",
       "      <td>...</td>\n",
       "      <td>37.772004</td>\n",
       "      <td>-122.431619</td>\n",
       "      <td>Beautiful Flat in the Heart of SF!</td>\n",
       "      <td>Lower Haight</td>\n",
       "      <td>0</td>\n",
       "      <td>NaN</td>\n",
       "      <td>https://a0.muscache.com/im/pictures/72208dad-9...</td>\n",
       "      <td>94117.0</td>\n",
       "      <td>2.0</td>\n",
       "      <td>2.0</td>\n",
       "    </tr>\n",
       "    <tr>\n",
       "      <th>4</th>\n",
       "      <td>3808709</td>\n",
       "      <td>4.744932</td>\n",
       "      <td>Apartment</td>\n",
       "      <td>Entire home/apt</td>\n",
       "      <td>{TV,Internet,\"Wireless Internet\",\"Air conditio...</td>\n",
       "      <td>2</td>\n",
       "      <td>1.0</td>\n",
       "      <td>Real Bed</td>\n",
       "      <td>moderate</td>\n",
       "      <td>True</td>\n",
       "      <td>...</td>\n",
       "      <td>38.925627</td>\n",
       "      <td>-77.034596</td>\n",
       "      <td>Great studio in midtown DC</td>\n",
       "      <td>Columbia Heights</td>\n",
       "      <td>4</td>\n",
       "      <td>40.0</td>\n",
       "      <td>NaN</td>\n",
       "      <td>20009</td>\n",
       "      <td>0.0</td>\n",
       "      <td>1.0</td>\n",
       "    </tr>\n",
       "  </tbody>\n",
       "</table>\n",
       "<p>5 rows × 29 columns</p>\n",
       "</div>"
      ],
      "text/plain": [
       "         id  log_price property_type        room_type  \\\n",
       "0   6901257   5.010635     Apartment  Entire home/apt   \n",
       "1   6304928   5.129899     Apartment  Entire home/apt   \n",
       "2   7919400   4.976734     Apartment  Entire home/apt   \n",
       "3  13418779   6.620073         House  Entire home/apt   \n",
       "4   3808709   4.744932     Apartment  Entire home/apt   \n",
       "\n",
       "                                           amenities  accommodates  bathrooms  \\\n",
       "0  {\"Wireless Internet\",\"Air conditioning\",Kitche...             3        1.0   \n",
       "1  {\"Wireless Internet\",\"Air conditioning\",Kitche...             7        1.0   \n",
       "2  {TV,\"Cable TV\",\"Wireless Internet\",\"Air condit...             5        1.0   \n",
       "3  {TV,\"Cable TV\",Internet,\"Wireless Internet\",Ki...             4        1.0   \n",
       "4  {TV,Internet,\"Wireless Internet\",\"Air conditio...             2        1.0   \n",
       "\n",
       "   bed_type cancellation_policy  cleaning_fee  ...   latitude   longitude  \\\n",
       "0  Real Bed              strict          True  ...  40.696524  -73.991617   \n",
       "1  Real Bed              strict          True  ...  40.766115  -73.989040   \n",
       "2  Real Bed            moderate          True  ...  40.808110  -73.943756   \n",
       "3  Real Bed            flexible          True  ...  37.772004 -122.431619   \n",
       "4  Real Bed            moderate          True  ...  38.925627  -77.034596   \n",
       "\n",
       "                                       name     neighbourhood  \\\n",
       "0            Beautiful brownstone 1-bedroom  Brooklyn Heights   \n",
       "1  Superb 3BR Apt Located Near Times Square    Hell's Kitchen   \n",
       "2                          The Garden Oasis            Harlem   \n",
       "3        Beautiful Flat in the Heart of SF!      Lower Haight   \n",
       "4                Great studio in midtown DC  Columbia Heights   \n",
       "\n",
       "  number_of_reviews review_scores_rating  \\\n",
       "0                 2                100.0   \n",
       "1                 6                 93.0   \n",
       "2                10                 92.0   \n",
       "3                 0                  NaN   \n",
       "4                 4                 40.0   \n",
       "\n",
       "                                       thumbnail_url  zipcode bedrooms  beds  \n",
       "0  https://a0.muscache.com/im/pictures/6d7cbbf7-c...    11201      1.0   1.0  \n",
       "1  https://a0.muscache.com/im/pictures/348a55fe-4...    10019      3.0   3.0  \n",
       "2  https://a0.muscache.com/im/pictures/6fae5362-9...    10027      1.0   3.0  \n",
       "3  https://a0.muscache.com/im/pictures/72208dad-9...  94117.0      2.0   2.0  \n",
       "4                                                NaN    20009      0.0   1.0  \n",
       "\n",
       "[5 rows x 29 columns]"
      ]
     },
     "execution_count": 411,
     "metadata": {},
     "output_type": "execute_result"
    }
   ],
   "source": [
    "# Read in the CSV file as a Pandas DataFrame\n",
    "Airbnb_df = pd.read_csv(Path(r\"C:\\Users\\Sezy\\OneDrive\\last_project_for_it\\Airbnb_Score_Model\\Resources\\Airbnb_Data.csv\"))\n",
    "\n",
    "# Review the DataFrame\n",
    "Airbnb_df.head()"
   ]
  },
  {
   "cell_type": "code",
   "execution_count": 412,
   "metadata": {},
   "outputs": [
    {
     "data": {
      "text/plain": [
       "74111"
      ]
     },
     "execution_count": 412,
     "metadata": {},
     "output_type": "execute_result"
    }
   ],
   "source": [
    "Airbnb_df.shape[0]"
   ]
  },
  {
   "cell_type": "code",
   "execution_count": 413,
   "metadata": {},
   "outputs": [
    {
     "name": "stdout",
     "output_type": "stream",
     "text": [
      "<class 'pandas.core.frame.DataFrame'>\n",
      "RangeIndex: 74111 entries, 0 to 74110\n",
      "Data columns (total 29 columns):\n",
      " #   Column                  Non-Null Count  Dtype  \n",
      "---  ------                  --------------  -----  \n",
      " 0   id                      74111 non-null  int64  \n",
      " 1   log_price               74111 non-null  float64\n",
      " 2   property_type           74111 non-null  object \n",
      " 3   room_type               74111 non-null  object \n",
      " 4   amenities               74111 non-null  object \n",
      " 5   accommodates            74111 non-null  int64  \n",
      " 6   bathrooms               73911 non-null  float64\n",
      " 7   bed_type                74111 non-null  object \n",
      " 8   cancellation_policy     74111 non-null  object \n",
      " 9   cleaning_fee            74111 non-null  bool   \n",
      " 10  city                    74111 non-null  object \n",
      " 11  description             74111 non-null  object \n",
      " 12  first_review            58247 non-null  object \n",
      " 13  host_has_profile_pic    73923 non-null  object \n",
      " 14  host_identity_verified  73923 non-null  object \n",
      " 15  host_response_rate      55812 non-null  object \n",
      " 16  host_since              73923 non-null  object \n",
      " 17  instant_bookable        74111 non-null  object \n",
      " 18  last_review             58284 non-null  object \n",
      " 19  latitude                74111 non-null  float64\n",
      " 20  longitude               74111 non-null  float64\n",
      " 21  name                    74111 non-null  object \n",
      " 22  neighbourhood           67239 non-null  object \n",
      " 23  number_of_reviews       74111 non-null  int64  \n",
      " 24  review_scores_rating    57389 non-null  float64\n",
      " 25  thumbnail_url           65895 non-null  object \n",
      " 26  zipcode                 73145 non-null  object \n",
      " 27  bedrooms                74020 non-null  float64\n",
      " 28  beds                    73980 non-null  float64\n",
      "dtypes: bool(1), float64(7), int64(3), object(18)\n",
      "memory usage: 15.9+ MB\n"
     ]
    }
   ],
   "source": [
    "Airbnb_df.info()"
   ]
  },
  {
   "cell_type": "markdown",
   "metadata": {},
   "source": [
    "New Rating Category"
   ]
  },
  {
   "cell_type": "code",
   "execution_count": 414,
   "metadata": {},
   "outputs": [
    {
     "name": "stdout",
     "output_type": "stream",
     "text": [
      "<class 'pandas.core.frame.DataFrame'>\n",
      "RangeIndex: 74111 entries, 0 to 74110\n",
      "Data columns (total 29 columns):\n",
      " #   Column                  Non-Null Count  Dtype  \n",
      "---  ------                  --------------  -----  \n",
      " 0   id                      74111 non-null  int64  \n",
      " 1   log_price               74111 non-null  float64\n",
      " 2   property_type           74111 non-null  object \n",
      " 3   room_type               74111 non-null  object \n",
      " 4   amenities               74111 non-null  object \n",
      " 5   accommodates            74111 non-null  int64  \n",
      " 6   bathrooms               73911 non-null  float64\n",
      " 7   bed_type                74111 non-null  object \n",
      " 8   cancellation_policy     74111 non-null  object \n",
      " 9   cleaning_fee            74111 non-null  bool   \n",
      " 10  city                    74111 non-null  object \n",
      " 11  description             74111 non-null  object \n",
      " 12  first_review            58247 non-null  object \n",
      " 13  host_has_profile_pic    73923 non-null  object \n",
      " 14  host_identity_verified  73923 non-null  object \n",
      " 15  host_response_rate      55812 non-null  object \n",
      " 16  host_since              73923 non-null  object \n",
      " 17  instant_bookable        74111 non-null  object \n",
      " 18  last_review             58284 non-null  object \n",
      " 19  latitude                74111 non-null  float64\n",
      " 20  longitude               74111 non-null  float64\n",
      " 21  name                    74111 non-null  object \n",
      " 22  neighbourhood           67239 non-null  object \n",
      " 23  number_of_reviews       74111 non-null  int64  \n",
      " 24  review_scores_rating    57389 non-null  float64\n",
      " 25  thumbnail_url           65895 non-null  object \n",
      " 26  zipcode                 73145 non-null  object \n",
      " 27  bedrooms                74020 non-null  float64\n",
      " 28  beds                    73980 non-null  float64\n",
      "dtypes: bool(1), float64(7), int64(3), object(18)\n",
      "memory usage: 15.9+ MB\n"
     ]
    }
   ],
   "source": [
    "Airbnb_df.info()"
   ]
  },
  {
   "cell_type": "markdown",
   "metadata": {},
   "source": [
    "Getting Rid of bad data"
   ]
  },
  {
   "cell_type": "code",
   "execution_count": 415,
   "metadata": {},
   "outputs": [],
   "source": [
    "\n",
    "Airbnb_df = Airbnb_df.drop(['id', 'description','first_review', 'host_has_profile_pic','host_since', 'last_review', 'latitude', 'longitude', 'name', 'neighbourhood',\n",
    "                         'thumbnail_url', 'zipcode'], axis = 1)"
   ]
  },
  {
   "cell_type": "markdown",
   "metadata": {},
   "source": [
    "making host_response_rate a float instead, used for one_hot encoding"
   ]
  },
  {
   "cell_type": "code",
   "execution_count": 416,
   "metadata": {},
   "outputs": [
    {
     "name": "stdout",
     "output_type": "stream",
     "text": [
      "<class 'pandas.core.series.Series'>\n",
      "RangeIndex: 74111 entries, 0 to 74110\n",
      "Series name: host_response_rate\n",
      "Non-Null Count  Dtype  \n",
      "--------------  -----  \n",
      "55812 non-null  float64\n",
      "dtypes: float64(1)\n",
      "memory usage: 579.1 KB\n"
     ]
    }
   ],
   "source": [
    "Airbnb_df['host_response_rate']= Airbnb_df['host_response_rate'].str.rstrip('%').astype('float')/100\n",
    "Airbnb_df['host_response_rate'].info()"
   ]
  },
  {
   "cell_type": "markdown",
   "metadata": {},
   "source": [
    "Filling in missing values"
   ]
  },
  {
   "cell_type": "code",
   "execution_count": 417,
   "metadata": {},
   "outputs": [
    {
     "data": {
      "text/html": [
       "<div>\n",
       "<style scoped>\n",
       "    .dataframe tbody tr th:only-of-type {\n",
       "        vertical-align: middle;\n",
       "    }\n",
       "\n",
       "    .dataframe tbody tr th {\n",
       "        vertical-align: top;\n",
       "    }\n",
       "\n",
       "    .dataframe thead th {\n",
       "        text-align: right;\n",
       "    }\n",
       "</style>\n",
       "<table border=\"1\" class=\"dataframe\">\n",
       "  <thead>\n",
       "    <tr style=\"text-align: right;\">\n",
       "      <th></th>\n",
       "      <th>log_price</th>\n",
       "      <th>accommodates</th>\n",
       "      <th>bathrooms</th>\n",
       "      <th>host_response_rate</th>\n",
       "      <th>number_of_reviews</th>\n",
       "      <th>review_scores_rating</th>\n",
       "      <th>bedrooms</th>\n",
       "      <th>beds</th>\n",
       "    </tr>\n",
       "  </thead>\n",
       "  <tbody>\n",
       "    <tr>\n",
       "      <th>0</th>\n",
       "      <td>5.010635</td>\n",
       "      <td>3.0</td>\n",
       "      <td>1.0</td>\n",
       "      <td>1.0</td>\n",
       "      <td>2.0</td>\n",
       "      <td>100.0</td>\n",
       "      <td>1.0</td>\n",
       "      <td>1.0</td>\n",
       "    </tr>\n",
       "    <tr>\n",
       "      <th>1</th>\n",
       "      <td>5.129899</td>\n",
       "      <td>7.0</td>\n",
       "      <td>1.0</td>\n",
       "      <td>1.0</td>\n",
       "      <td>6.0</td>\n",
       "      <td>93.0</td>\n",
       "      <td>3.0</td>\n",
       "      <td>3.0</td>\n",
       "    </tr>\n",
       "    <tr>\n",
       "      <th>2</th>\n",
       "      <td>4.976734</td>\n",
       "      <td>5.0</td>\n",
       "      <td>1.0</td>\n",
       "      <td>1.0</td>\n",
       "      <td>10.0</td>\n",
       "      <td>92.0</td>\n",
       "      <td>1.0</td>\n",
       "      <td>3.0</td>\n",
       "    </tr>\n",
       "    <tr>\n",
       "      <th>3</th>\n",
       "      <td>6.620073</td>\n",
       "      <td>4.0</td>\n",
       "      <td>1.0</td>\n",
       "      <td>1.0</td>\n",
       "      <td>0.0</td>\n",
       "      <td>96.0</td>\n",
       "      <td>2.0</td>\n",
       "      <td>2.0</td>\n",
       "    </tr>\n",
       "    <tr>\n",
       "      <th>4</th>\n",
       "      <td>4.744932</td>\n",
       "      <td>2.0</td>\n",
       "      <td>1.0</td>\n",
       "      <td>1.0</td>\n",
       "      <td>4.0</td>\n",
       "      <td>40.0</td>\n",
       "      <td>0.0</td>\n",
       "      <td>1.0</td>\n",
       "    </tr>\n",
       "  </tbody>\n",
       "</table>\n",
       "</div>"
      ],
      "text/plain": [
       "   log_price  accommodates  bathrooms  host_response_rate  number_of_reviews  \\\n",
       "0   5.010635           3.0        1.0                 1.0                2.0   \n",
       "1   5.129899           7.0        1.0                 1.0                6.0   \n",
       "2   4.976734           5.0        1.0                 1.0               10.0   \n",
       "3   6.620073           4.0        1.0                 1.0                0.0   \n",
       "4   4.744932           2.0        1.0                 1.0                4.0   \n",
       "\n",
       "   review_scores_rating  bedrooms  beds  \n",
       "0                 100.0       1.0   1.0  \n",
       "1                  93.0       3.0   3.0  \n",
       "2                  92.0       1.0   3.0  \n",
       "3                  96.0       2.0   2.0  \n",
       "4                  40.0       0.0   1.0  "
      ]
     },
     "execution_count": 417,
     "metadata": {},
     "output_type": "execute_result"
    }
   ],
   "source": [
    "from sklearn.impute import SimpleImputer\n",
    "# Replace missing values with median\n",
    "SI = SimpleImputer(strategy = 'median')\n",
    "SI.fit(Airbnb_df.select_dtypes(include = 'number'))\n",
    "# creating a side df to seperate data\n",
    "imputer = SI.transform(Airbnb_df.select_dtypes(include = 'number'))\n",
    "airbnb_num = pd.DataFrame(imputer, columns = Airbnb_df.select_dtypes(include = 'number').columns)\n",
    "airbnb_num.head()"
   ]
  },
  {
   "cell_type": "code",
   "execution_count": 418,
   "metadata": {},
   "outputs": [
    {
     "data": {
      "text/plain": [
       "log_price               0\n",
       "accommodates            0\n",
       "bathrooms               0\n",
       "host_response_rate      0\n",
       "number_of_reviews       0\n",
       "review_scores_rating    0\n",
       "bedrooms                0\n",
       "beds                    0\n",
       "dtype: int64"
      ]
     },
     "execution_count": 418,
     "metadata": {},
     "output_type": "execute_result"
    }
   ],
   "source": [
    "airbnb_num.isnull().sum()"
   ]
  },
  {
   "cell_type": "code",
   "execution_count": 419,
   "metadata": {},
   "outputs": [
    {
     "data": {
      "text/html": [
       "<div>\n",
       "<style scoped>\n",
       "    .dataframe tbody tr th:only-of-type {\n",
       "        vertical-align: middle;\n",
       "    }\n",
       "\n",
       "    .dataframe tbody tr th {\n",
       "        vertical-align: top;\n",
       "    }\n",
       "\n",
       "    .dataframe thead th {\n",
       "        text-align: right;\n",
       "    }\n",
       "</style>\n",
       "<table border=\"1\" class=\"dataframe\">\n",
       "  <thead>\n",
       "    <tr style=\"text-align: right;\">\n",
       "      <th></th>\n",
       "      <th>property_type</th>\n",
       "      <th>room_type</th>\n",
       "      <th>amenities</th>\n",
       "      <th>bed_type</th>\n",
       "      <th>cancellation_policy</th>\n",
       "      <th>city</th>\n",
       "      <th>host_identity_verified</th>\n",
       "      <th>instant_bookable</th>\n",
       "    </tr>\n",
       "  </thead>\n",
       "  <tbody>\n",
       "    <tr>\n",
       "      <th>0</th>\n",
       "      <td>Apartment</td>\n",
       "      <td>Entire home/apt</td>\n",
       "      <td>{\"Wireless Internet\",\"Air conditioning\",Kitche...</td>\n",
       "      <td>Real Bed</td>\n",
       "      <td>strict</td>\n",
       "      <td>NYC</td>\n",
       "      <td>t</td>\n",
       "      <td>f</td>\n",
       "    </tr>\n",
       "    <tr>\n",
       "      <th>1</th>\n",
       "      <td>Apartment</td>\n",
       "      <td>Entire home/apt</td>\n",
       "      <td>{\"Wireless Internet\",\"Air conditioning\",Kitche...</td>\n",
       "      <td>Real Bed</td>\n",
       "      <td>strict</td>\n",
       "      <td>NYC</td>\n",
       "      <td>f</td>\n",
       "      <td>t</td>\n",
       "    </tr>\n",
       "    <tr>\n",
       "      <th>2</th>\n",
       "      <td>Apartment</td>\n",
       "      <td>Entire home/apt</td>\n",
       "      <td>{TV,\"Cable TV\",\"Wireless Internet\",\"Air condit...</td>\n",
       "      <td>Real Bed</td>\n",
       "      <td>moderate</td>\n",
       "      <td>NYC</td>\n",
       "      <td>t</td>\n",
       "      <td>t</td>\n",
       "    </tr>\n",
       "    <tr>\n",
       "      <th>3</th>\n",
       "      <td>House</td>\n",
       "      <td>Entire home/apt</td>\n",
       "      <td>{TV,\"Cable TV\",Internet,\"Wireless Internet\",Ki...</td>\n",
       "      <td>Real Bed</td>\n",
       "      <td>flexible</td>\n",
       "      <td>SF</td>\n",
       "      <td>t</td>\n",
       "      <td>f</td>\n",
       "    </tr>\n",
       "    <tr>\n",
       "      <th>4</th>\n",
       "      <td>Apartment</td>\n",
       "      <td>Entire home/apt</td>\n",
       "      <td>{TV,Internet,\"Wireless Internet\",\"Air conditio...</td>\n",
       "      <td>Real Bed</td>\n",
       "      <td>moderate</td>\n",
       "      <td>DC</td>\n",
       "      <td>t</td>\n",
       "      <td>t</td>\n",
       "    </tr>\n",
       "  </tbody>\n",
       "</table>\n",
       "</div>"
      ],
      "text/plain": [
       "  property_type        room_type  \\\n",
       "0     Apartment  Entire home/apt   \n",
       "1     Apartment  Entire home/apt   \n",
       "2     Apartment  Entire home/apt   \n",
       "3         House  Entire home/apt   \n",
       "4     Apartment  Entire home/apt   \n",
       "\n",
       "                                           amenities  bed_type  \\\n",
       "0  {\"Wireless Internet\",\"Air conditioning\",Kitche...  Real Bed   \n",
       "1  {\"Wireless Internet\",\"Air conditioning\",Kitche...  Real Bed   \n",
       "2  {TV,\"Cable TV\",\"Wireless Internet\",\"Air condit...  Real Bed   \n",
       "3  {TV,\"Cable TV\",Internet,\"Wireless Internet\",Ki...  Real Bed   \n",
       "4  {TV,Internet,\"Wireless Internet\",\"Air conditio...  Real Bed   \n",
       "\n",
       "  cancellation_policy city host_identity_verified instant_bookable  \n",
       "0              strict  NYC                      t                f  \n",
       "1              strict  NYC                      f                t  \n",
       "2            moderate  NYC                      t                t  \n",
       "3            flexible   SF                      t                f  \n",
       "4            moderate   DC                      t                t  "
      ]
     },
     "execution_count": 419,
     "metadata": {},
     "output_type": "execute_result"
    }
   ],
   "source": [
    "SI = SimpleImputer(strategy = 'most_frequent')\n",
    "SI.fit(Airbnb_df.select_dtypes(include = 'object'))\n",
    "imputer = SI.transform(Airbnb_df.select_dtypes(include = 'object'))\n",
    "airbnb_obj = pd.DataFrame(imputer, columns = Airbnb_df.select_dtypes(include = 'object').columns)\n",
    "airbnb_obj.head()"
   ]
  },
  {
   "cell_type": "code",
   "execution_count": 420,
   "metadata": {},
   "outputs": [
    {
     "data": {
      "text/plain": [
       "property_type             0\n",
       "room_type                 0\n",
       "amenities                 0\n",
       "bed_type                  0\n",
       "cancellation_policy       0\n",
       "city                      0\n",
       "host_identity_verified    0\n",
       "instant_bookable          0\n",
       "dtype: int64"
      ]
     },
     "execution_count": 420,
     "metadata": {},
     "output_type": "execute_result"
    }
   ],
   "source": [
    "airbnb_obj.isnull().sum()"
   ]
  },
  {
   "cell_type": "markdown",
   "metadata": {},
   "source": [
    "Merge Data\n",
    "Combine clean data"
   ]
  },
  {
   "cell_type": "code",
   "execution_count": 421,
   "metadata": {},
   "outputs": [
    {
     "data": {
      "text/plain": [
       "log_price                 0\n",
       "accommodates              0\n",
       "bathrooms                 0\n",
       "host_response_rate        0\n",
       "number_of_reviews         0\n",
       "review_scores_rating      0\n",
       "bedrooms                  0\n",
       "beds                      0\n",
       "property_type             0\n",
       "room_type                 0\n",
       "amenities                 0\n",
       "bed_type                  0\n",
       "cancellation_policy       0\n",
       "city                      0\n",
       "host_identity_verified    0\n",
       "instant_bookable          0\n",
       "cleaning_fee              0\n",
       "dtype: int64"
      ]
     },
     "execution_count": 421,
     "metadata": {},
     "output_type": "execute_result"
    }
   ],
   "source": [
    "Airbnb_df_v2 = pd.concat([airbnb_num, airbnb_obj], axis = 1)\n",
    "Airbnb_df_v2['cleaning_fee'] = Airbnb_df['cleaning_fee']\n",
    "Airbnb_df_v2.isnull().sum()"
   ]
  },
  {
   "cell_type": "markdown",
   "metadata": {},
   "source": [
    "Creating a list of amenities count, another feature"
   ]
  },
  {
   "cell_type": "code",
   "execution_count": 422,
   "metadata": {},
   "outputs": [
    {
     "name": "stdout",
     "output_type": "stream",
     "text": [
      "<class 'pandas.core.frame.DataFrame'>\n",
      "RangeIndex: 74111 entries, 0 to 74110\n",
      "Data columns (total 17 columns):\n",
      " #   Column                  Non-Null Count  Dtype  \n",
      "---  ------                  --------------  -----  \n",
      " 0   log_price               74111 non-null  float64\n",
      " 1   accommodates            74111 non-null  float64\n",
      " 2   bathrooms               74111 non-null  float64\n",
      " 3   host_response_rate      74111 non-null  float64\n",
      " 4   number_of_reviews       74111 non-null  float64\n",
      " 5   review_scores_rating    74111 non-null  float64\n",
      " 6   bedrooms                74111 non-null  float64\n",
      " 7   beds                    74111 non-null  float64\n",
      " 8   property_type           74111 non-null  object \n",
      " 9   room_type               74111 non-null  object \n",
      " 10  amenities               74111 non-null  int64  \n",
      " 11  bed_type                74111 non-null  object \n",
      " 12  cancellation_policy     74111 non-null  object \n",
      " 13  city                    74111 non-null  object \n",
      " 14  host_identity_verified  74111 non-null  object \n",
      " 15  instant_bookable        74111 non-null  object \n",
      " 16  cleaning_fee            74111 non-null  bool   \n",
      "dtypes: bool(1), float64(8), int64(1), object(7)\n",
      "memory usage: 9.1+ MB\n"
     ]
    }
   ],
   "source": [
    "aminities_count = []\n",
    "for i in Airbnb_df_v2['amenities']:\n",
    "  aminities_count.append(len(i))\n",
    "\n",
    "Airbnb_df_v2['amenities'] = aminities_count\n",
    "Airbnb_df_v2.info()"
   ]
  },
  {
   "cell_type": "markdown",
   "metadata": {},
   "source": [
    "Making a rare category for properties that are not listed as often"
   ]
  },
  {
   "cell_type": "code",
   "execution_count": 423,
   "metadata": {},
   "outputs": [],
   "source": [
    "value_count = Airbnb_df_v2['property_type'].value_counts()\n",
    "other_values = value_count[value_count < 50].index\n",
    "Airbnb_df_v2['property_type'] = Airbnb_df_v2['property_type'].replace(other_values, 'Other')"
   ]
  },
  {
   "cell_type": "markdown",
   "metadata": {},
   "source": [
    "Combine the super strict categories that are extremely rare to avoid multicollinearity. "
   ]
  },
  {
   "cell_type": "code",
   "execution_count": 424,
   "metadata": {},
   "outputs": [
    {
     "data": {
      "text/plain": [
       "cancellation_policy\n",
       "strict          32374\n",
       "flexible        22545\n",
       "moderate        19063\n",
       "super_strict      129\n",
       "Name: count, dtype: int64"
      ]
     },
     "execution_count": 424,
     "metadata": {},
     "output_type": "execute_result"
    }
   ],
   "source": [
    "Airbnb_df_v2['cancellation_policy'] = Airbnb_df_v2['cancellation_policy'].replace(['super_strict_30', 'super_strict_60'], 'super_strict')\n",
    "Airbnb_df_v2['cancellation_policy'].value_counts()"
   ]
  },
  {
   "cell_type": "markdown",
   "metadata": {},
   "source": [
    "making the final DF to turn into a usable csv"
   ]
  },
  {
   "cell_type": "code",
   "execution_count": 425,
   "metadata": {},
   "outputs": [],
   "source": [
    "airbnb_v3 = Airbnb_df_v2.copy()"
   ]
  },
  {
   "cell_type": "code",
   "execution_count": 426,
   "metadata": {},
   "outputs": [
    {
     "name": "stdout",
     "output_type": "stream",
     "text": [
      "<class 'pandas.core.frame.DataFrame'>\n",
      "RangeIndex: 74111 entries, 0 to 74110\n",
      "Data columns (total 17 columns):\n",
      " #   Column                  Non-Null Count  Dtype  \n",
      "---  ------                  --------------  -----  \n",
      " 0   log_price               74111 non-null  float64\n",
      " 1   accommodates            74111 non-null  float64\n",
      " 2   bathrooms               74111 non-null  float64\n",
      " 3   host_response_rate      74111 non-null  float64\n",
      " 4   number_of_reviews       74111 non-null  float64\n",
      " 5   review_scores_rating    74111 non-null  float64\n",
      " 6   bedrooms                74111 non-null  float64\n",
      " 7   beds                    74111 non-null  float64\n",
      " 8   property_type           74111 non-null  object \n",
      " 9   room_type               74111 non-null  object \n",
      " 10  amenities               74111 non-null  int64  \n",
      " 11  bed_type                74111 non-null  object \n",
      " 12  cancellation_policy     74111 non-null  object \n",
      " 13  city                    74111 non-null  object \n",
      " 14  host_identity_verified  74111 non-null  object \n",
      " 15  instant_bookable        74111 non-null  object \n",
      " 16  cleaning_fee            74111 non-null  bool   \n",
      "dtypes: bool(1), float64(8), int64(1), object(7)\n",
      "memory usage: 9.1+ MB\n"
     ]
    }
   ],
   "source": [
    "airbnb_v3.info()"
   ]
  },
  {
   "cell_type": "markdown",
   "metadata": {},
   "source": [
    "Bin the target variable"
   ]
  },
  {
   "cell_type": "code",
   "execution_count": 427,
   "metadata": {},
   "outputs": [],
   "source": [
    "# Define bins and labels\n",
    "bins = [0, 60 , 70, 80, 100]\n",
    "labels = [0, 1, 2, 3]\n",
    "\n",
    "# Create a new column with categorized ratings\n",
    "airbnb_v3['rating_category'] = pd.cut(airbnb_v3['review_scores_rating'], bins=bins, labels=labels, include_lowest=True)"
   ]
  },
  {
   "cell_type": "code",
   "execution_count": 428,
   "metadata": {},
   "outputs": [],
   "source": [
    "y = airbnb_v3['rating_category']  # Target variable\n",
    "X = airbnb_v3.drop(columns=['rating_category', 'review_scores_rating'])"
   ]
  },
  {
   "cell_type": "code",
   "execution_count": 429,
   "metadata": {},
   "outputs": [],
   "source": [
    "X_encoded = pd.get_dummies(X, drop_first=True, dtype=int)"
   ]
  },
  {
   "cell_type": "code",
   "execution_count": 430,
   "metadata": {},
   "outputs": [],
   "source": [
    "airbnb_v3_encoded = pd.concat([X_encoded, y], axis=1)"
   ]
  },
  {
   "cell_type": "code",
   "execution_count": 431,
   "metadata": {},
   "outputs": [
    {
     "name": "stdout",
     "output_type": "stream",
     "text": [
      "<class 'pandas.core.frame.DataFrame'>\n",
      "RangeIndex: 74111 entries, 0 to 74110\n",
      "Data columns (total 44 columns):\n",
      " #   Column                            Non-Null Count  Dtype   \n",
      "---  ------                            --------------  -----   \n",
      " 0   log_price                         74111 non-null  float64 \n",
      " 1   accommodates                      74111 non-null  float64 \n",
      " 2   bathrooms                         74111 non-null  float64 \n",
      " 3   host_response_rate                74111 non-null  float64 \n",
      " 4   number_of_reviews                 74111 non-null  float64 \n",
      " 5   bedrooms                          74111 non-null  float64 \n",
      " 6   beds                              74111 non-null  float64 \n",
      " 7   amenities                         74111 non-null  int64   \n",
      " 8   cleaning_fee                      74111 non-null  bool    \n",
      " 9   property_type_Bed & Breakfast     74111 non-null  int32   \n",
      " 10  property_type_Boat                74111 non-null  int32   \n",
      " 11  property_type_Boutique hotel      74111 non-null  int32   \n",
      " 12  property_type_Bungalow            74111 non-null  int32   \n",
      " 13  property_type_Cabin               74111 non-null  int32   \n",
      " 14  property_type_Camper/RV           74111 non-null  int32   \n",
      " 15  property_type_Condominium         74111 non-null  int32   \n",
      " 16  property_type_Dorm                74111 non-null  int32   \n",
      " 17  property_type_Guest suite         74111 non-null  int32   \n",
      " 18  property_type_Guesthouse          74111 non-null  int32   \n",
      " 19  property_type_Hostel              74111 non-null  int32   \n",
      " 20  property_type_House               74111 non-null  int32   \n",
      " 21  property_type_In-law              74111 non-null  int32   \n",
      " 22  property_type_Loft                74111 non-null  int32   \n",
      " 23  property_type_Other               74111 non-null  int32   \n",
      " 24  property_type_Timeshare           74111 non-null  int32   \n",
      " 25  property_type_Townhouse           74111 non-null  int32   \n",
      " 26  property_type_Villa               74111 non-null  int32   \n",
      " 27  room_type_Private room            74111 non-null  int32   \n",
      " 28  room_type_Shared room             74111 non-null  int32   \n",
      " 29  bed_type_Couch                    74111 non-null  int32   \n",
      " 30  bed_type_Futon                    74111 non-null  int32   \n",
      " 31  bed_type_Pull-out Sofa            74111 non-null  int32   \n",
      " 32  bed_type_Real Bed                 74111 non-null  int32   \n",
      " 33  cancellation_policy_moderate      74111 non-null  int32   \n",
      " 34  cancellation_policy_strict        74111 non-null  int32   \n",
      " 35  cancellation_policy_super_strict  74111 non-null  int32   \n",
      " 36  city_Chicago                      74111 non-null  int32   \n",
      " 37  city_DC                           74111 non-null  int32   \n",
      " 38  city_LA                           74111 non-null  int32   \n",
      " 39  city_NYC                          74111 non-null  int32   \n",
      " 40  city_SF                           74111 non-null  int32   \n",
      " 41  host_identity_verified_t          74111 non-null  int32   \n",
      " 42  instant_bookable_t                74111 non-null  int32   \n",
      " 43  rating_category                   74111 non-null  category\n",
      "dtypes: bool(1), category(1), float64(7), int32(34), int64(1)\n",
      "memory usage: 14.3 MB\n"
     ]
    }
   ],
   "source": [
    "airbnb_v3_encoded.info()"
   ]
  },
  {
   "cell_type": "code",
   "execution_count": 432,
   "metadata": {},
   "outputs": [],
   "source": [
    "airbnb_v3_encoded['cleaning_fee'] = airbnb_v3['cleaning_fee'].astype('int')"
   ]
  },
  {
   "cell_type": "code",
   "execution_count": 433,
   "metadata": {},
   "outputs": [],
   "source": [
    "airbnb_v3_encoded.drop(['property_type_Boat', 'room_type_Shared room', 'cancellation_policy_super_strict'], axis = 1, inplace = True)"
   ]
  },
  {
   "cell_type": "code",
   "execution_count": 434,
   "metadata": {},
   "outputs": [
    {
     "name": "stdout",
     "output_type": "stream",
     "text": [
      "<class 'pandas.core.frame.DataFrame'>\n",
      "RangeIndex: 74111 entries, 0 to 74110\n",
      "Data columns (total 41 columns):\n",
      " #   Column                         Non-Null Count  Dtype   \n",
      "---  ------                         --------------  -----   \n",
      " 0   log_price                      74111 non-null  float64 \n",
      " 1   accommodates                   74111 non-null  float64 \n",
      " 2   bathrooms                      74111 non-null  float64 \n",
      " 3   host_response_rate             74111 non-null  float64 \n",
      " 4   number_of_reviews              74111 non-null  float64 \n",
      " 5   bedrooms                       74111 non-null  float64 \n",
      " 6   beds                           74111 non-null  float64 \n",
      " 7   amenities                      74111 non-null  int64   \n",
      " 8   cleaning_fee                   74111 non-null  int32   \n",
      " 9   property_type_Bed & Breakfast  74111 non-null  int32   \n",
      " 10  property_type_Boutique hotel   74111 non-null  int32   \n",
      " 11  property_type_Bungalow         74111 non-null  int32   \n",
      " 12  property_type_Cabin            74111 non-null  int32   \n",
      " 13  property_type_Camper/RV        74111 non-null  int32   \n",
      " 14  property_type_Condominium      74111 non-null  int32   \n",
      " 15  property_type_Dorm             74111 non-null  int32   \n",
      " 16  property_type_Guest suite      74111 non-null  int32   \n",
      " 17  property_type_Guesthouse       74111 non-null  int32   \n",
      " 18  property_type_Hostel           74111 non-null  int32   \n",
      " 19  property_type_House            74111 non-null  int32   \n",
      " 20  property_type_In-law           74111 non-null  int32   \n",
      " 21  property_type_Loft             74111 non-null  int32   \n",
      " 22  property_type_Other            74111 non-null  int32   \n",
      " 23  property_type_Timeshare        74111 non-null  int32   \n",
      " 24  property_type_Townhouse        74111 non-null  int32   \n",
      " 25  property_type_Villa            74111 non-null  int32   \n",
      " 26  room_type_Private room         74111 non-null  int32   \n",
      " 27  bed_type_Couch                 74111 non-null  int32   \n",
      " 28  bed_type_Futon                 74111 non-null  int32   \n",
      " 29  bed_type_Pull-out Sofa         74111 non-null  int32   \n",
      " 30  bed_type_Real Bed              74111 non-null  int32   \n",
      " 31  cancellation_policy_moderate   74111 non-null  int32   \n",
      " 32  cancellation_policy_strict     74111 non-null  int32   \n",
      " 33  city_Chicago                   74111 non-null  int32   \n",
      " 34  city_DC                        74111 non-null  int32   \n",
      " 35  city_LA                        74111 non-null  int32   \n",
      " 36  city_NYC                       74111 non-null  int32   \n",
      " 37  city_SF                        74111 non-null  int32   \n",
      " 38  host_identity_verified_t       74111 non-null  int32   \n",
      " 39  instant_bookable_t             74111 non-null  int32   \n",
      " 40  rating_category                74111 non-null  category\n",
      "dtypes: category(1), float64(7), int32(32), int64(1)\n",
      "memory usage: 13.6 MB\n"
     ]
    }
   ],
   "source": [
    "airbnb_v3_encoded.info()"
   ]
  },
  {
   "cell_type": "markdown",
   "metadata": {},
   "source": [
    "creating another csv"
   ]
  },
  {
   "cell_type": "code",
   "execution_count": 435,
   "metadata": {},
   "outputs": [],
   "source": [
    "airbnb_v3_encoded.to_csv('airbnb_v3_encoded.csv', index=False)"
   ]
  },
  {
   "cell_type": "code",
   "execution_count": 371,
   "metadata": {},
   "outputs": [],
   "source": [
    "from sklearn.model_selection import train_test_split\n",
    "\n",
    "# Split the data\n",
    "X_train, X_test, y_train, y_test = train_test_split(X_encoded, y, test_size=0.2, random_state=42)"
   ]
  },
  {
   "cell_type": "code",
   "execution_count": 372,
   "metadata": {},
   "outputs": [],
   "source": [
    "from sklearn.ensemble import RandomForestClassifier\n",
    "\n",
    "# Initialize the model\n",
    "model = RandomForestClassifier(random_state=42)\n"
   ]
  },
  {
   "cell_type": "code",
   "execution_count": 374,
   "metadata": {},
   "outputs": [
    {
     "data": {
      "text/html": [
       "<style>#sk-container-id-6 {color: black;background-color: white;}#sk-container-id-6 pre{padding: 0;}#sk-container-id-6 div.sk-toggleable {background-color: white;}#sk-container-id-6 label.sk-toggleable__label {cursor: pointer;display: block;width: 100%;margin-bottom: 0;padding: 0.3em;box-sizing: border-box;text-align: center;}#sk-container-id-6 label.sk-toggleable__label-arrow:before {content: \"▸\";float: left;margin-right: 0.25em;color: #696969;}#sk-container-id-6 label.sk-toggleable__label-arrow:hover:before {color: black;}#sk-container-id-6 div.sk-estimator:hover label.sk-toggleable__label-arrow:before {color: black;}#sk-container-id-6 div.sk-toggleable__content {max-height: 0;max-width: 0;overflow: hidden;text-align: left;background-color: #f0f8ff;}#sk-container-id-6 div.sk-toggleable__content pre {margin: 0.2em;color: black;border-radius: 0.25em;background-color: #f0f8ff;}#sk-container-id-6 input.sk-toggleable__control:checked~div.sk-toggleable__content {max-height: 200px;max-width: 100%;overflow: auto;}#sk-container-id-6 input.sk-toggleable__control:checked~label.sk-toggleable__label-arrow:before {content: \"▾\";}#sk-container-id-6 div.sk-estimator input.sk-toggleable__control:checked~label.sk-toggleable__label {background-color: #d4ebff;}#sk-container-id-6 div.sk-label input.sk-toggleable__control:checked~label.sk-toggleable__label {background-color: #d4ebff;}#sk-container-id-6 input.sk-hidden--visually {border: 0;clip: rect(1px 1px 1px 1px);clip: rect(1px, 1px, 1px, 1px);height: 1px;margin: -1px;overflow: hidden;padding: 0;position: absolute;width: 1px;}#sk-container-id-6 div.sk-estimator {font-family: monospace;background-color: #f0f8ff;border: 1px dotted black;border-radius: 0.25em;box-sizing: border-box;margin-bottom: 0.5em;}#sk-container-id-6 div.sk-estimator:hover {background-color: #d4ebff;}#sk-container-id-6 div.sk-parallel-item::after {content: \"\";width: 100%;border-bottom: 1px solid gray;flex-grow: 1;}#sk-container-id-6 div.sk-label:hover label.sk-toggleable__label {background-color: #d4ebff;}#sk-container-id-6 div.sk-serial::before {content: \"\";position: absolute;border-left: 1px solid gray;box-sizing: border-box;top: 0;bottom: 0;left: 50%;z-index: 0;}#sk-container-id-6 div.sk-serial {display: flex;flex-direction: column;align-items: center;background-color: white;padding-right: 0.2em;padding-left: 0.2em;position: relative;}#sk-container-id-6 div.sk-item {position: relative;z-index: 1;}#sk-container-id-6 div.sk-parallel {display: flex;align-items: stretch;justify-content: center;background-color: white;position: relative;}#sk-container-id-6 div.sk-item::before, #sk-container-id-6 div.sk-parallel-item::before {content: \"\";position: absolute;border-left: 1px solid gray;box-sizing: border-box;top: 0;bottom: 0;left: 50%;z-index: -1;}#sk-container-id-6 div.sk-parallel-item {display: flex;flex-direction: column;z-index: 1;position: relative;background-color: white;}#sk-container-id-6 div.sk-parallel-item:first-child::after {align-self: flex-end;width: 50%;}#sk-container-id-6 div.sk-parallel-item:last-child::after {align-self: flex-start;width: 50%;}#sk-container-id-6 div.sk-parallel-item:only-child::after {width: 0;}#sk-container-id-6 div.sk-dashed-wrapped {border: 1px dashed gray;margin: 0 0.4em 0.5em 0.4em;box-sizing: border-box;padding-bottom: 0.4em;background-color: white;}#sk-container-id-6 div.sk-label label {font-family: monospace;font-weight: bold;display: inline-block;line-height: 1.2em;}#sk-container-id-6 div.sk-label-container {text-align: center;}#sk-container-id-6 div.sk-container {/* jupyter's `normalize.less` sets `[hidden] { display: none; }` but bootstrap.min.css set `[hidden] { display: none !important; }` so we also need the `!important` here to be able to override the default hidden behavior on the sphinx rendered scikit-learn.org. See: https://github.com/scikit-learn/scikit-learn/issues/21755 */display: inline-block !important;position: relative;}#sk-container-id-6 div.sk-text-repr-fallback {display: none;}</style><div id=\"sk-container-id-6\" class=\"sk-top-container\"><div class=\"sk-text-repr-fallback\"><pre>RandomForestClassifier(random_state=42)</pre><b>In a Jupyter environment, please rerun this cell to show the HTML representation or trust the notebook. <br />On GitHub, the HTML representation is unable to render, please try loading this page with nbviewer.org.</b></div><div class=\"sk-container\" hidden><div class=\"sk-item\"><div class=\"sk-estimator sk-toggleable\"><input class=\"sk-toggleable__control sk-hidden--visually\" id=\"sk-estimator-id-6\" type=\"checkbox\" checked><label for=\"sk-estimator-id-6\" class=\"sk-toggleable__label sk-toggleable__label-arrow\">RandomForestClassifier</label><div class=\"sk-toggleable__content\"><pre>RandomForestClassifier(random_state=42)</pre></div></div></div></div></div>"
      ],
      "text/plain": [
       "RandomForestClassifier(random_state=42)"
      ]
     },
     "execution_count": 374,
     "metadata": {},
     "output_type": "execute_result"
    }
   ],
   "source": [
    "model.fit(X_train, y_train)"
   ]
  },
  {
   "cell_type": "code",
   "execution_count": 375,
   "metadata": {},
   "outputs": [
    {
     "name": "stdout",
     "output_type": "stream",
     "text": [
      "Accuracy: 0.95\n",
      "              precision    recall  f1-score   support\n",
      "\n",
      "           0       0.25      0.01      0.01       143\n",
      "           1       0.00      0.00      0.00        72\n",
      "           2       0.27      0.01      0.02       578\n",
      "           3       0.95      1.00      0.97     14030\n",
      "\n",
      "    accuracy                           0.95     14823\n",
      "   macro avg       0.37      0.25      0.25     14823\n",
      "weighted avg       0.91      0.95      0.92     14823\n",
      "\n",
      "[[    1     0     0   142]\n",
      " [    0     0     0    72]\n",
      " [    0     0     7   571]\n",
      " [    3     0    19 14008]]\n"
     ]
    },
    {
     "name": "stderr",
     "output_type": "stream",
     "text": [
      "c:\\Users\\Sezy\\anaconda3\\Lib\\site-packages\\sklearn\\metrics\\_classification.py:1344: UndefinedMetricWarning: Precision and F-score are ill-defined and being set to 0.0 in labels with no predicted samples. Use `zero_division` parameter to control this behavior.\n",
      "  _warn_prf(average, modifier, msg_start, len(result))\n",
      "c:\\Users\\Sezy\\anaconda3\\Lib\\site-packages\\sklearn\\metrics\\_classification.py:1344: UndefinedMetricWarning: Precision and F-score are ill-defined and being set to 0.0 in labels with no predicted samples. Use `zero_division` parameter to control this behavior.\n",
      "  _warn_prf(average, modifier, msg_start, len(result))\n",
      "c:\\Users\\Sezy\\anaconda3\\Lib\\site-packages\\sklearn\\metrics\\_classification.py:1344: UndefinedMetricWarning: Precision and F-score are ill-defined and being set to 0.0 in labels with no predicted samples. Use `zero_division` parameter to control this behavior.\n",
      "  _warn_prf(average, modifier, msg_start, len(result))\n"
     ]
    }
   ],
   "source": [
    "# Predict on the test set\n",
    "y_pred = model.predict(X_test)\n",
    "\n",
    "# Calculate accuracy\n",
    "from sklearn.metrics import accuracy_score, classification_report, confusion_matrix\n",
    "\n",
    "accuracy = accuracy_score(y_test, y_pred)\n",
    "print(f\"Accuracy: {accuracy:.2f}\")\n",
    "\n",
    "# Detailed report\n",
    "print(classification_report(y_test, y_pred))\n",
    "\n",
    "# Confusion Matrix\n",
    "print(confusion_matrix(y_test, y_pred))\n"
   ]
  },
  {
   "cell_type": "code",
   "execution_count": 344,
   "metadata": {},
   "outputs": [],
   "source": [
    "airbnb_v3.drop(['property_type_Boat', 'room_type_Shared room', 'cancellation_policy_super_strict'], axis = 1, inplace = True)"
   ]
  },
  {
   "cell_type": "code",
   "execution_count": 381,
   "metadata": {},
   "outputs": [],
   "source": [
    "airbnb_v3_encoded['cleaning_fee'] = airbnb_v3['cleaning_fee'].astype('int')"
   ]
  },
  {
   "cell_type": "code",
   "execution_count": 268,
   "metadata": {},
   "outputs": [
    {
     "data": {
      "text/html": [
       "<div>\n",
       "<style scoped>\n",
       "    .dataframe tbody tr th:only-of-type {\n",
       "        vertical-align: middle;\n",
       "    }\n",
       "\n",
       "    .dataframe tbody tr th {\n",
       "        vertical-align: top;\n",
       "    }\n",
       "\n",
       "    .dataframe thead th {\n",
       "        text-align: right;\n",
       "    }\n",
       "</style>\n",
       "<table border=\"1\" class=\"dataframe\">\n",
       "  <thead>\n",
       "    <tr style=\"text-align: right;\">\n",
       "      <th></th>\n",
       "      <th>log_price</th>\n",
       "      <th>accommodates</th>\n",
       "      <th>bathrooms</th>\n",
       "      <th>host_response_rate</th>\n",
       "      <th>number_of_reviews</th>\n",
       "      <th>review_scores_rating</th>\n",
       "      <th>bedrooms</th>\n",
       "      <th>beds</th>\n",
       "      <th>amenities</th>\n",
       "      <th>bed_type</th>\n",
       "      <th>...</th>\n",
       "      <th>property_type_Loft</th>\n",
       "      <th>property_type_Other</th>\n",
       "      <th>property_type_Timeshare</th>\n",
       "      <th>property_type_Townhouse</th>\n",
       "      <th>property_type_Villa</th>\n",
       "      <th>room_type_Entire home/apt</th>\n",
       "      <th>room_type_Private room</th>\n",
       "      <th>cancellation_policy_flexible</th>\n",
       "      <th>cancellation_policy_moderate</th>\n",
       "      <th>cancellation_policy_strict</th>\n",
       "    </tr>\n",
       "  </thead>\n",
       "  <tbody>\n",
       "    <tr>\n",
       "      <th>0</th>\n",
       "      <td>5.010635</td>\n",
       "      <td>3.0</td>\n",
       "      <td>1.0</td>\n",
       "      <td>1.0</td>\n",
       "      <td>2.0</td>\n",
       "      <td>100.0</td>\n",
       "      <td>1.0</td>\n",
       "      <td>1.0</td>\n",
       "      <td>152</td>\n",
       "      <td>Real Bed</td>\n",
       "      <td>...</td>\n",
       "      <td>0</td>\n",
       "      <td>0</td>\n",
       "      <td>0</td>\n",
       "      <td>0</td>\n",
       "      <td>0</td>\n",
       "      <td>1</td>\n",
       "      <td>0</td>\n",
       "      <td>0</td>\n",
       "      <td>0</td>\n",
       "      <td>1</td>\n",
       "    </tr>\n",
       "    <tr>\n",
       "      <th>1</th>\n",
       "      <td>5.129899</td>\n",
       "      <td>7.0</td>\n",
       "      <td>1.0</td>\n",
       "      <td>1.0</td>\n",
       "      <td>6.0</td>\n",
       "      <td>93.0</td>\n",
       "      <td>3.0</td>\n",
       "      <td>3.0</td>\n",
       "      <td>218</td>\n",
       "      <td>Real Bed</td>\n",
       "      <td>...</td>\n",
       "      <td>0</td>\n",
       "      <td>0</td>\n",
       "      <td>0</td>\n",
       "      <td>0</td>\n",
       "      <td>0</td>\n",
       "      <td>1</td>\n",
       "      <td>0</td>\n",
       "      <td>0</td>\n",
       "      <td>0</td>\n",
       "      <td>1</td>\n",
       "    </tr>\n",
       "    <tr>\n",
       "      <th>2</th>\n",
       "      <td>4.976734</td>\n",
       "      <td>5.0</td>\n",
       "      <td>1.0</td>\n",
       "      <td>1.0</td>\n",
       "      <td>10.0</td>\n",
       "      <td>92.0</td>\n",
       "      <td>1.0</td>\n",
       "      <td>3.0</td>\n",
       "      <td>311</td>\n",
       "      <td>Real Bed</td>\n",
       "      <td>...</td>\n",
       "      <td>0</td>\n",
       "      <td>0</td>\n",
       "      <td>0</td>\n",
       "      <td>0</td>\n",
       "      <td>0</td>\n",
       "      <td>1</td>\n",
       "      <td>0</td>\n",
       "      <td>0</td>\n",
       "      <td>1</td>\n",
       "      <td>0</td>\n",
       "    </tr>\n",
       "    <tr>\n",
       "      <th>3</th>\n",
       "      <td>6.620073</td>\n",
       "      <td>4.0</td>\n",
       "      <td>1.0</td>\n",
       "      <td>1.0</td>\n",
       "      <td>0.0</td>\n",
       "      <td>96.0</td>\n",
       "      <td>2.0</td>\n",
       "      <td>2.0</td>\n",
       "      <td>210</td>\n",
       "      <td>Real Bed</td>\n",
       "      <td>...</td>\n",
       "      <td>0</td>\n",
       "      <td>0</td>\n",
       "      <td>0</td>\n",
       "      <td>0</td>\n",
       "      <td>0</td>\n",
       "      <td>1</td>\n",
       "      <td>0</td>\n",
       "      <td>1</td>\n",
       "      <td>0</td>\n",
       "      <td>0</td>\n",
       "    </tr>\n",
       "    <tr>\n",
       "      <th>4</th>\n",
       "      <td>4.744932</td>\n",
       "      <td>2.0</td>\n",
       "      <td>1.0</td>\n",
       "      <td>1.0</td>\n",
       "      <td>4.0</td>\n",
       "      <td>40.0</td>\n",
       "      <td>0.0</td>\n",
       "      <td>1.0</td>\n",
       "      <td>174</td>\n",
       "      <td>Real Bed</td>\n",
       "      <td>...</td>\n",
       "      <td>0</td>\n",
       "      <td>0</td>\n",
       "      <td>0</td>\n",
       "      <td>0</td>\n",
       "      <td>0</td>\n",
       "      <td>1</td>\n",
       "      <td>0</td>\n",
       "      <td>0</td>\n",
       "      <td>1</td>\n",
       "      <td>0</td>\n",
       "    </tr>\n",
       "  </tbody>\n",
       "</table>\n",
       "<p>5 rows × 38 columns</p>\n",
       "</div>"
      ],
      "text/plain": [
       "   log_price  accommodates  bathrooms  host_response_rate  number_of_reviews  \\\n",
       "0   5.010635           3.0        1.0                 1.0                2.0   \n",
       "1   5.129899           7.0        1.0                 1.0                6.0   \n",
       "2   4.976734           5.0        1.0                 1.0               10.0   \n",
       "3   6.620073           4.0        1.0                 1.0                0.0   \n",
       "4   4.744932           2.0        1.0                 1.0                4.0   \n",
       "\n",
       "   review_scores_rating  bedrooms  beds  amenities  bed_type  ...  \\\n",
       "0                 100.0       1.0   1.0        152  Real Bed  ...   \n",
       "1                  93.0       3.0   3.0        218  Real Bed  ...   \n",
       "2                  92.0       1.0   3.0        311  Real Bed  ...   \n",
       "3                  96.0       2.0   2.0        210  Real Bed  ...   \n",
       "4                  40.0       0.0   1.0        174  Real Bed  ...   \n",
       "\n",
       "  property_type_Loft property_type_Other property_type_Timeshare  \\\n",
       "0                  0                   0                       0   \n",
       "1                  0                   0                       0   \n",
       "2                  0                   0                       0   \n",
       "3                  0                   0                       0   \n",
       "4                  0                   0                       0   \n",
       "\n",
       "   property_type_Townhouse property_type_Villa  room_type_Entire home/apt  \\\n",
       "0                        0                   0                          1   \n",
       "1                        0                   0                          1   \n",
       "2                        0                   0                          1   \n",
       "3                        0                   0                          1   \n",
       "4                        0                   0                          1   \n",
       "\n",
       "   room_type_Private room  cancellation_policy_flexible  \\\n",
       "0                       0                             0   \n",
       "1                       0                             0   \n",
       "2                       0                             0   \n",
       "3                       0                             1   \n",
       "4                       0                             0   \n",
       "\n",
       "   cancellation_policy_moderate  cancellation_policy_strict  \n",
       "0                             0                           1  \n",
       "1                             0                           1  \n",
       "2                             1                           0  \n",
       "3                             0                           0  \n",
       "4                             1                           0  \n",
       "\n",
       "[5 rows x 38 columns]"
      ]
     },
     "execution_count": 268,
     "metadata": {},
     "output_type": "execute_result"
    }
   ],
   "source": [
    "airbnb_v3.head()"
   ]
  },
  {
   "cell_type": "code",
   "execution_count": 380,
   "metadata": {},
   "outputs": [
    {
     "name": "stdout",
     "output_type": "stream",
     "text": [
      "<class 'pandas.core.frame.DataFrame'>\n",
      "RangeIndex: 74111 entries, 0 to 74110\n",
      "Data columns (total 44 columns):\n",
      " #   Column                            Non-Null Count  Dtype   \n",
      "---  ------                            --------------  -----   \n",
      " 0   log_price                         74111 non-null  float64 \n",
      " 1   accommodates                      74111 non-null  float64 \n",
      " 2   bathrooms                         74111 non-null  float64 \n",
      " 3   host_response_rate                74111 non-null  float64 \n",
      " 4   number_of_reviews                 74111 non-null  float64 \n",
      " 5   bedrooms                          74111 non-null  float64 \n",
      " 6   beds                              74111 non-null  float64 \n",
      " 7   amenities                         74111 non-null  int64   \n",
      " 8   cleaning_fee                      74111 non-null  bool    \n",
      " 9   property_type_Bed & Breakfast     74111 non-null  int32   \n",
      " 10  property_type_Boat                74111 non-null  int32   \n",
      " 11  property_type_Boutique hotel      74111 non-null  int32   \n",
      " 12  property_type_Bungalow            74111 non-null  int32   \n",
      " 13  property_type_Cabin               74111 non-null  int32   \n",
      " 14  property_type_Camper/RV           74111 non-null  int32   \n",
      " 15  property_type_Condominium         74111 non-null  int32   \n",
      " 16  property_type_Dorm                74111 non-null  int32   \n",
      " 17  property_type_Guest suite         74111 non-null  int32   \n",
      " 18  property_type_Guesthouse          74111 non-null  int32   \n",
      " 19  property_type_Hostel              74111 non-null  int32   \n",
      " 20  property_type_House               74111 non-null  int32   \n",
      " 21  property_type_In-law              74111 non-null  int32   \n",
      " 22  property_type_Loft                74111 non-null  int32   \n",
      " 23  property_type_Other               74111 non-null  int32   \n",
      " 24  property_type_Timeshare           74111 non-null  int32   \n",
      " 25  property_type_Townhouse           74111 non-null  int32   \n",
      " 26  property_type_Villa               74111 non-null  int32   \n",
      " 27  room_type_Private room            74111 non-null  int32   \n",
      " 28  room_type_Shared room             74111 non-null  int32   \n",
      " 29  bed_type_Couch                    74111 non-null  int32   \n",
      " 30  bed_type_Futon                    74111 non-null  int32   \n",
      " 31  bed_type_Pull-out Sofa            74111 non-null  int32   \n",
      " 32  bed_type_Real Bed                 74111 non-null  int32   \n",
      " 33  cancellation_policy_moderate      74111 non-null  int32   \n",
      " 34  cancellation_policy_strict        74111 non-null  int32   \n",
      " 35  cancellation_policy_super_strict  74111 non-null  int32   \n",
      " 36  city_Chicago                      74111 non-null  int32   \n",
      " 37  city_DC                           74111 non-null  int32   \n",
      " 38  city_LA                           74111 non-null  int32   \n",
      " 39  city_NYC                          74111 non-null  int32   \n",
      " 40  city_SF                           74111 non-null  int32   \n",
      " 41  host_identity_verified_t          74111 non-null  int32   \n",
      " 42  instant_bookable_t                74111 non-null  int32   \n",
      " 43  rating_category                   74111 non-null  category\n",
      "dtypes: bool(1), category(1), float64(7), int32(34), int64(1)\n",
      "memory usage: 14.3 MB\n"
     ]
    }
   ],
   "source": [
    "airbnb_v3_encoded.info()"
   ]
  }
 ],
 "metadata": {
  "kernelspec": {
   "display_name": "base",
   "language": "python",
   "name": "python3"
  },
  "language_info": {
   "codemirror_mode": {
    "name": "ipython",
    "version": 3
   },
   "file_extension": ".py",
   "mimetype": "text/x-python",
   "name": "python",
   "nbconvert_exporter": "python",
   "pygments_lexer": "ipython3",
   "version": "3.11.7"
  }
 },
 "nbformat": 4,
 "nbformat_minor": 2
}
